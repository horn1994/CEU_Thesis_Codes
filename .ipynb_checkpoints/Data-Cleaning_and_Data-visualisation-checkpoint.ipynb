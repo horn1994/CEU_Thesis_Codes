{
 "cells": [
  {
   "cell_type": "markdown",
   "metadata": {},
   "source": [
    "# Thesis data cleaning and visualisation\n",
    "\n",
    "**Peter Horn, CEU** \n",
    "\n",
    "- Code for Data cleaning process and data visualisation \n",
    "- Data available: http://www.enable-eu.com/dataset-on-households-energy-use-now-available/"
   ]
  },
  {
   "cell_type": "code",
   "execution_count": 1,
   "metadata": {},
   "outputs": [],
   "source": [
    "%config IPCompleter.greedy=True\n",
    "import pandas as pd\n",
    "import numpy as np\n",
    "import matplotlib.pyplot as plt\n",
    "import seaborn as sns\n",
    "from sklearn.linear_model import LinearRegression\n",
    "from sklearn.linear_model import LogisticRegression\n",
    "import statsmodels.formula.api as smf\n",
    "import statsmodels.api as sm\n",
    "from scipy.stats import ttest_ind\n",
    "from scipy import stats"
   ]
  },
  {
   "cell_type": "code",
   "execution_count": 2,
   "metadata": {
    "scrolled": true
   },
   "outputs": [
    {
     "ename": "FileNotFoundError",
     "evalue": "[Errno 2] No such file or directory: 'ENABLE.EU_dataset_survey_of_households.dta'",
     "output_type": "error",
     "traceback": [
      "\u001b[1;31m---------------------------------------------------------------------------\u001b[0m",
      "\u001b[1;31mFileNotFoundError\u001b[0m                         Traceback (most recent call last)",
      "\u001b[1;32m<ipython-input-2-cb036f1259ea>\u001b[0m in \u001b[0;36m<module>\u001b[1;34m\u001b[0m\n\u001b[1;32m----> 1\u001b[1;33m \u001b[0mdata_main\u001b[0m \u001b[1;33m=\u001b[0m \u001b[0mpd\u001b[0m\u001b[1;33m.\u001b[0m\u001b[0mread_stata\u001b[0m\u001b[1;33m(\u001b[0m\u001b[1;34m\"ENABLE.EU_dataset_survey_of_households.dta\"\u001b[0m\u001b[1;33m)\u001b[0m\u001b[1;33m\u001b[0m\u001b[1;33m\u001b[0m\u001b[0m\n\u001b[0m",
      "\u001b[1;32m~\\anaconda3\\lib\\site-packages\\pandas\\io\\stata.py\u001b[0m in \u001b[0;36mread_stata\u001b[1;34m(filepath_or_buffer, convert_dates, convert_categoricals, index_col, convert_missing, preserve_dtypes, columns, order_categoricals, chunksize, iterator)\u001b[0m\n\u001b[0;32m    184\u001b[0m         \u001b[0mcolumns\u001b[0m\u001b[1;33m=\u001b[0m\u001b[0mcolumns\u001b[0m\u001b[1;33m,\u001b[0m\u001b[1;33m\u001b[0m\u001b[1;33m\u001b[0m\u001b[0m\n\u001b[0;32m    185\u001b[0m         \u001b[0morder_categoricals\u001b[0m\u001b[1;33m=\u001b[0m\u001b[0morder_categoricals\u001b[0m\u001b[1;33m,\u001b[0m\u001b[1;33m\u001b[0m\u001b[1;33m\u001b[0m\u001b[0m\n\u001b[1;32m--> 186\u001b[1;33m         \u001b[0mchunksize\u001b[0m\u001b[1;33m=\u001b[0m\u001b[0mchunksize\u001b[0m\u001b[1;33m,\u001b[0m\u001b[1;33m\u001b[0m\u001b[1;33m\u001b[0m\u001b[0m\n\u001b[0m\u001b[0;32m    187\u001b[0m     )\n\u001b[0;32m    188\u001b[0m \u001b[1;33m\u001b[0m\u001b[0m\n",
      "\u001b[1;32m~\\anaconda3\\lib\\site-packages\\pandas\\io\\stata.py\u001b[0m in \u001b[0;36m__init__\u001b[1;34m(self, path_or_buf, convert_dates, convert_categoricals, index_col, convert_missing, preserve_dtypes, columns, order_categoricals, chunksize)\u001b[0m\n\u001b[0;32m   1048\u001b[0m \u001b[1;33m\u001b[0m\u001b[0m\n\u001b[0;32m   1049\u001b[0m         \u001b[1;32mif\u001b[0m \u001b[0misinstance\u001b[0m\u001b[1;33m(\u001b[0m\u001b[0mpath_or_buf\u001b[0m\u001b[1;33m,\u001b[0m \u001b[1;33m(\u001b[0m\u001b[0mstr\u001b[0m\u001b[1;33m,\u001b[0m \u001b[0mbytes\u001b[0m\u001b[1;33m)\u001b[0m\u001b[1;33m)\u001b[0m\u001b[1;33m:\u001b[0m\u001b[1;33m\u001b[0m\u001b[1;33m\u001b[0m\u001b[0m\n\u001b[1;32m-> 1050\u001b[1;33m             \u001b[0mself\u001b[0m\u001b[1;33m.\u001b[0m\u001b[0mpath_or_buf\u001b[0m \u001b[1;33m=\u001b[0m \u001b[0mopen\u001b[0m\u001b[1;33m(\u001b[0m\u001b[0mpath_or_buf\u001b[0m\u001b[1;33m,\u001b[0m \u001b[1;34m\"rb\"\u001b[0m\u001b[1;33m)\u001b[0m\u001b[1;33m\u001b[0m\u001b[1;33m\u001b[0m\u001b[0m\n\u001b[0m\u001b[0;32m   1051\u001b[0m         \u001b[1;32melse\u001b[0m\u001b[1;33m:\u001b[0m\u001b[1;33m\u001b[0m\u001b[1;33m\u001b[0m\u001b[0m\n\u001b[0;32m   1052\u001b[0m             \u001b[1;31m# Copy to BytesIO, and ensure no encoding\u001b[0m\u001b[1;33m\u001b[0m\u001b[1;33m\u001b[0m\u001b[1;33m\u001b[0m\u001b[0m\n",
      "\u001b[1;31mFileNotFoundError\u001b[0m: [Errno 2] No such file or directory: 'ENABLE.EU_dataset_survey_of_households.dta'"
     ]
    }
   ],
   "source": [
    "data_main = pd.read_stata(\"data/ENABLE.EU_dataset_survey_of_households.dta\")"
   ]
  },
  {
   "cell_type": "code",
   "execution_count": null,
   "metadata": {
    "scrolled": false
   },
   "outputs": [],
   "source": [
    "data_main.head()"
   ]
  },
  {
   "cell_type": "markdown",
   "metadata": {},
   "source": [
    "## Data wrangling"
   ]
  },
  {
   "cell_type": "code",
   "execution_count": null,
   "metadata": {},
   "outputs": [],
   "source": [
    "data_main = data_main.replace('Do not know', np.nan)\n",
    "data_main = data_main.replace('NaN', np.nan)\n",
    "data_main = data_main.replace(99, np.nan)\n",
    "data_main['Country'] = data_main['Country'].astype('str')\n",
    "data_main['H8A'] = data_main['H8A'].astype('float')\n",
    "data_main['H7A1'] = data_main['H7A1'].astype('float')\n",
    "data_main['H7AA'] = data_main['H7AA'].astype('float')\n",
    "data_main['H1'] = data_main['H1'].astype('str')\n",
    "data_main['H2'] = data_main['H2'].astype('str')\n",
    "data_main['H3'] = data_main['H3'].astype('str')\n",
    "\n",
    "data_main['H5A1'] = data_main['H5A1'].astype('str')\n",
    "data_main['H5A2'] = data_main['H5A2'].astype('str')\n",
    "data_main['H5A3'] = data_main['H5A3'].astype('str')\n",
    "data_main['H5A4'] = data_main['H5A4'].astype('str')\n",
    "data_main['H5A99'] = data_main['H5A99'].astype('str')\n",
    "\n",
    "data_main['H15A'] = data_main['H15A'].astype('str')\n",
    "data_main['H15B'] = data_main['H15B'].astype('str')\n",
    "data_main['H15D'] = data_main['H15D'].astype('str')\n",
    "\n",
    "\n",
    "data_main['S2'] = data_main['S2'].astype('str')\n",
    "data_main['S4'] = data_main['S4'].replace('Refusal', np.nan)\n",
    "data_main['S4'] = data_main['S4'].astype('float')\n",
    "data_main['H11A'] = data_main['H11A'].astype('str')\n",
    "\n",
    "data_main[['G1A1', 'G1A2','G1A3','G1A4','G1A5']] = data_main[['G1A1', 'G1A2','G1A3','G1A4','G1A5']].astype('str')\n",
    "data_main[['G2A1', 'G2A2','G2A3','G2A4','G2A5','G2A6']] = data_main[['G2A1', 'G2A2','G2A3','G2A4','G2A5','G2A6']].astype('str')\n",
    "data_main[['E6A1', 'E6A2', 'E6A3', 'E6A4']] = data_main[['E6A1', 'E6A2', 'E6A3', 'E6A4']].astype('str')\n",
    "data_main[['G5A','G5B','G5C','G5D','G5E']] = data_main[['G5A','G5B','G5C','G5D','G5E']].astype('str')\n",
    "data_main[['C1A', 'C3']] = data_main[['C1A', 'C3']].astype('str')\n"
   ]
  },
  {
   "cell_type": "code",
   "execution_count": null,
   "metadata": {},
   "outputs": [],
   "source": [
    "for row in range(len(data_main)):\n",
    "    try:\n",
    "        data_main['H3'].iloc[row] = data_main['H3'].iloc[row].replace('\\x96', 'to')\n",
    "    except:\n",
    "        print('no')"
   ]
  },
  {
   "cell_type": "code",
   "execution_count": null,
   "metadata": {},
   "outputs": [],
   "source": [
    "for var in data_main:\n",
    "    if data_main[var].isnull().sum()/len(data_main) > 0.8:\n",
    "        data_main.drop(var, axis=1, inplace = True)"
   ]
  },
  {
   "cell_type": "markdown",
   "metadata": {},
   "source": [
    "### Average Exchange rates to EUR (2017)\n",
    "- Bulgaria: 1.955978 leva\n",
    "- France: -\n",
    "- Germany: -\n",
    "- Hungary: 309.279687 forint\n",
    "- Italy: -\n",
    "- Norway: 9.333043 krona\n",
    "- Poland: 4.256968 zloty\n",
    "- Serbia: 121.3367 dinar\n",
    "- Spain: -\n",
    "- Ukraine: 29.704 hryvnia\n",
    "- United Kingdom: 0.876654 pounds\n",
    "\n",
    "source: https://www.ofx.com/en-au/forex-news/historical-exchange-rates/yearly-average-rates/"
   ]
  },
  {
   "cell_type": "code",
   "execution_count": null,
   "metadata": {},
   "outputs": [],
   "source": [
    "data_main['Currency_toeur'] = np.nan\n",
    "for row in range(len(data_main)):\n",
    "    if data_main['Country'].iloc[row] == 'Bulgaria':\n",
    "        data_main['Currency_toeur'].iloc[row]  = 1.955978\n",
    "    elif data_main['Country'].iloc[row] == 'Hungary':\n",
    "        data_main['Currency_toeur'].iloc[row]  = 309.279687\n",
    "    elif data_main['Country'].iloc[row] == 'Norway':\n",
    "        data_main['Currency_toeur'].iloc[row]  = 9.333043\n",
    "    elif data_main['Country'].iloc[row] == 'Poland':\n",
    "        data_main['Currency_toeur'].iloc[row]  = 4.256968\n",
    "    elif data_main['Country'].iloc[row] == 'Serbia':\n",
    "        data_main['Currency_toeur'].iloc[row]  = 121.3367\n",
    "    elif data_main['Country'].iloc[row] == 'Ukraine':\n",
    "        data_main['Currency_toeur'].iloc[row]  = 29.704\n",
    "    elif data_main['Country'].iloc[row] == 'United Kingdom':\n",
    "        data_main['Currency_toeur'].iloc[row]  = 0.876654\n",
    "    else:\n",
    "        data_main['Currency_toeur'].iloc[row]  = 1"
   ]
  },
  {
   "cell_type": "markdown",
   "metadata": {},
   "source": [
    "**Droping observations where no attitude questions**"
   ]
  },
  {
   "cell_type": "code",
   "execution_count": null,
   "metadata": {},
   "outputs": [],
   "source": [
    "data_main = data_main[\n",
    "    (data_main[\"Country\"] != \"Bulgaria\")\n",
    "    & (data_main[\"Country\"] != \"Italy\")\n",
    "    & (data_main[\"Country\"] != \"Spain\")\n",
    "].reset_index(drop = True)"
   ]
  },
  {
   "cell_type": "markdown",
   "metadata": {},
   "source": [
    "## Descriptives"
   ]
  },
  {
   "cell_type": "markdown",
   "metadata": {},
   "source": [
    "### Building Characteristics"
   ]
  },
  {
   "cell_type": "code",
   "execution_count": null,
   "metadata": {},
   "outputs": [],
   "source": [
    "\n",
    "insulation = pd.DataFrame.from_dict({'Attic and roof insulation': data_main['H5A1'][data_main['H5A1'] == 'Mentioned'].count(),\n",
    "                                     'Cavity wall insulation': data_main['H5A2'][data_main['H5A2'] == 'Mentioned'].count(),\n",
    "                                     'External wall insulation': data_main['H5A3'][data_main['H5A3'] == 'Mentioned'].count(),\n",
    "                                    'No additional insulation': data_main['H5A4'][data_main['H5A4'] == 'Mentioned'].count(),\n",
    "                                     '(Don’t know)': data_main['H5A99'][data_main['H5A99'] == 'Mentioned'].count()}, orient='index')"
   ]
  },
  {
   "cell_type": "code",
   "execution_count": null,
   "metadata": {},
   "outputs": [],
   "source": [
    "data_main ['house_type'] = np.nan\n",
    "for row in range(len(data_main)):\n",
    "    if data_main['H1'].iloc[row] == 'Apartment in a building with 6 or more flats':\n",
    "        data_main['house_type'].iloc[row]  = 0\n",
    "    elif data_main['H1'].iloc[row] == 'Single-family house attached to one or more other houses (for example: duplex, r':\n",
    "        data_main['house_type'].iloc[row]  = 1\n",
    "    elif data_main['H1'].iloc[row] == 'Single-family house detached from any other house':\n",
    "        data_main['house_type'].iloc[row]  = 2\n",
    "    elif data_main['H1'].iloc[row] == 'Apartment in a building with 2 to 5 flats':\n",
    "        data_main['house_type'].iloc[row]  = 3\n",
    "    else:\n",
    "        data_main['house_type'].iloc[row]  = np.nan"
   ]
  },
  {
   "cell_type": "code",
   "execution_count": null,
   "metadata": {},
   "outputs": [],
   "source": [
    "data_main[\"detached\"] = np.where(data_main[\"house_type\"] == 2, 1, 0)\n",
    "data_main.loc[data_main[\"house_type\"].isna(), \"detached\"] = np.nan\n",
    "\n",
    "data_main[\"semi_detached\"] = np.where(data_main[\"house_type\"] == 1, 1, 0)\n",
    "data_main.loc[data_main[\"house_type\"].isna(), \"semi_detached\"] = np.nan\n",
    "\n",
    "data_main[\"non_detached\"] = np.where((data_main[\"house_type\"] == 3) | (data_main[\"house_type\"] == 0), 1, 0)\n",
    "data_main.loc[data_main[\"house_type\"].isna(), \"semi_detached\"] = np.nan"
   ]
  },
  {
   "cell_type": "code",
   "execution_count": null,
   "metadata": {},
   "outputs": [],
   "source": [
    "data_main ['house_size'] = np.nan\n",
    "for row in range(len(data_main)):\n",
    "    if data_main['H3'].iloc[row] == 'Up to 42 m2':\n",
    "        data_main['house_size'].iloc[row]  = 0\n",
    "    elif data_main['H3'].iloc[row] == '43 to 65 m2':\n",
    "        data_main['house_size'].iloc[row]  = 1\n",
    "    elif data_main['H3'].iloc[row] == '66 to 90 m2':\n",
    "        data_main['house_size'].iloc[row]  = 2\n",
    "    elif data_main['H3'].iloc[row] == '91 to 120 m2':\n",
    "        data_main['house_size'].iloc[row]  = 3\n",
    "    elif data_main['H3'].iloc[row] == '120 to 200 m2':\n",
    "        data_main['house_size'].iloc[row]  = 4\n",
    "    elif data_main['H3'].iloc[row] == 'More than 200 m2':\n",
    "        data_main['house_size'].iloc[row]  = 5\n",
    "    else:\n",
    "        data_main['house_size'].iloc[row]  = np.nan\n",
    "        \n",
    "        \n",
    "data_main ['house_age'] = np.nan\n",
    "for row in range(len(data_main)):\n",
    "    if data_main['H2'].iloc[row] == 'Before 1950':\n",
    "        data_main['house_age'].iloc[row]  = 7\n",
    "    elif data_main['H2'].iloc[row] == '1950 to 1959':\n",
    "        data_main['house_age'].iloc[row]  = 6\n",
    "    elif data_main['H2'].iloc[row] == '1960 to 1969':\n",
    "        data_main['house_age'].iloc[row]  = 5\n",
    "    elif data_main['H2'].iloc[row] == '1970 to 1979':\n",
    "        data_main['house_age'].iloc[row]  = 4\n",
    "    elif data_main['H2'].iloc[row] == '1980 to 1989':\n",
    "        data_main['house_age'].iloc[row]  = 3\n",
    "    elif data_main['H2'].iloc[row] == '1990 to 1999':\n",
    "        data_main['house_age'].iloc[row]  = 2\n",
    "    elif data_main['H2'].iloc[row] == '2000 to 2009':\n",
    "        data_main['house_age'].iloc[row]  = 1\n",
    "    elif data_main['H2'].iloc[row] == '2010 to 2016':\n",
    "        data_main['house_age'].iloc[row]  = 0\n",
    "    else:\n",
    "        data_main['house_age'].iloc[row]  = np.nan\n",
    "        "
   ]
  },
  {
   "cell_type": "code",
   "execution_count": null,
   "metadata": {},
   "outputs": [],
   "source": [
    "data_main['before_1980'] = np.where(data_main['house_age'] >= 4, 1,0)\n",
    "data_main.loc[data_main['house_age'].isna(), 'before_1980'] = np.nan\n",
    "\n",
    "data_main['before_1990'] = np.where(data_main['house_age'] >= 3, 1,0)\n",
    "data_main.loc[data_main['house_age'].isna(), 'before_1990'] = np.nan\n",
    "\n",
    "data_main['house_big'] = np.where(data_main['house_size'] >= 3, 1,0)\n",
    "data_main.loc[data_main['house_size'].isna(), 'house_big'] = np.nan"
   ]
  },
  {
   "cell_type": "code",
   "execution_count": null,
   "metadata": {},
   "outputs": [],
   "source": [
    "fig, axs = plt.subplots(2,2, figsize = (16,18))\n",
    "sns.countplot(x='H1', data=data_main, order = data_main['H1'].value_counts().index, ax = axs[0,0], palette=\"ch:2.5,-.2,dark=.3\")\n",
    "axs[0,0].set_xticklabels(['Single-family house', 'Duplex or similar', 'Apartment (2-5 flats)', 'Apartment (6< flats)', 'No answer'], rotation=20)\n",
    "axs[0,0].set_ylabel('Count')\n",
    "axs[0,0].set_xlabel('Home type')\n",
    "axs[0,0].set_title('Count of different home types')\n",
    "\n",
    "sns.countplot(x='H2', data=data_main, order = ['(Do not know)', 'Before 1950', '1950 to 1959', '1960 to 1969',  \n",
    "                                                   '1970 to 1979', '1980 to 1989', '1990 to 1999', '2000 to 2009', \n",
    "                                                   '2010 to 2016'], ax = axs[0,1], palette=\"ch:2.5,-.2,dark=.3\") \n",
    "axs[0,1].set_xticklabels(axs[0,1].get_xticklabels(),rotation=20)\n",
    "axs[0,1].set_ylabel('Count')\n",
    "axs[0,1].set_xlabel('Building age')\n",
    "axs[0,1].set_title('Distribution of age of buildings')\n",
    "\n",
    "sns.countplot(x='H3', data=data_main, order = ['does not know/ did not answer', 'Up to 42 m2', '43 to 65 m2', \n",
    "                                               '66 to 90 m2', '91 to 120 m2', '120 to 200 m2', 'More than 200 m2'], ax = axs[1,0], palette=\"ch:2.5,-.2,dark=.3\") \n",
    "axs[1,0].set_xticklabels(axs[1,0].get_xticklabels(),rotation=90)\n",
    "axs[1,0].set_ylabel('Count')\n",
    "axs[1,0].set_xlabel('Building size')\n",
    "axs[1,0].set_title('Distribution of size of buildings')\n",
    "\n",
    "insulation.sort_values(by = 0, ascending = False).plot.bar(ax = axs[1,1], color = [sns.color_palette(\"ch:2.5,-.2,dark=.3\")])\n",
    "axs[1,1].set_ylabel('Count')\n",
    "axs[1,1].set_xlabel('Insulation type')\n",
    "axs[1,1].set_title('Count of different insulation types');"
   ]
  },
  {
   "cell_type": "markdown",
   "metadata": {},
   "source": [
    "### Social characteristics"
   ]
  },
  {
   "cell_type": "code",
   "execution_count": null,
   "metadata": {},
   "outputs": [],
   "source": [
    "data_main['household_members'] = data_main['S1Ac1'] + data_main['S1Ac2'] + data_main['S1Ac3'] + data_main['S1Bc1'] + data_main['S1Bc2'] + data_main['S1Bc3'] \n",
    "data_main['children'] = data_main['S1Ac1'] + data_main['S1Bc1']\n",
    "data_main['middle_aged'] = data_main['S1Ac2'] + data_main['S1Bc2'] \n",
    "data_main['elderly'] = data_main['S1Ac3'] + data_main['S1Bc3']\n",
    "data_main['resp_age'] = 2018-data_main['S4']\n",
    "\n",
    "data_main['income_decile'] = np.nan\n",
    "for row in range(len(data_main)):\n",
    "    if (data_main['S9MONTH'].iloc[row] == 'Bracket 1') | (data_main['S9MONTH'].iloc[row] == 'Bracket 2') | \\\n",
    "    (data_main['S9YEAR'].iloc[row] == 'Bracket 1' )| (data_main['S9YEAR'].iloc[row] == 'Bracket 2'):\n",
    "        data_main['income_decile'].iloc[row]  = 'Poor'\n",
    "    elif (data_main['S9MONTH'].iloc[row] == 'Bracket 3') | (data_main['S9MONTH'].iloc[row] == 'Bracket 4') | \\\n",
    "    (data_main['S9YEAR'].iloc[row] == 'Bracket 3') | (data_main['S9YEAR'].iloc[row] == 'Bracket 4'):\n",
    "        data_main['income_decile'].iloc[row]  = 'Low income'\n",
    "    elif (data_main['S9MONTH'].iloc[row] == 'Bracket 5') | (data_main['S9MONTH'].iloc[row] == 'Bracket 6') | \\\n",
    "    (data_main['S9YEAR'].iloc[row] == 'Bracket 5') | (data_main['S9YEAR'].iloc[row] == 'Bracket 6'):\n",
    "        data_main['income_decile'].iloc[row]  = 'Lower middle income'\n",
    "    elif (data_main['S9MONTH'].iloc[row] == 'Bracket 7') | (data_main['S9MONTH'].iloc[row] == 'Bracket 8') | \\\n",
    "    (data_main['S9YEAR'].iloc[row] == 'Bracket 7') | (data_main['S9YEAR'].iloc[row] == 'Bracket 8'):\n",
    "        data_main['income_decile'].iloc[row]  = 'Upper middle income'\n",
    "    elif (data_main['S9MONTH'].iloc[row] == 'Bracket 9') | (data_main['S9MONTH'].iloc[row] == 'Bracket 10') | \\\n",
    "    (data_main['S9YEAR'].iloc[row] == 'Bracket 9') | (data_main['S9YEAR'].iloc[row] == 'Bracket 10'):\n",
    "        data_main['income_decile'].iloc[row]  = 'High income'\n",
    "    elif (data_main['S9MONTH'].iloc[row] == 'Refused to answer') | (data_main['S9YEAR'].iloc[row] == 'Refused to answer'):\n",
    "        data_main['income_decile'].iloc[row]  = 'Refused to answer'\n",
    "               \n",
    "        \n",
    "data_main['income_dec_num'] = np.nan\n",
    "for row in range(len(data_main)):\n",
    "    if (data_main['S9MONTH'].iloc[row] == 'Bracket 1') | (data_main['S9MONTH'].iloc[row] == 'Bracket 2') | \\\n",
    "    (data_main['S9YEAR'].iloc[row] == 'Bracket 1' )| (data_main['S9YEAR'].iloc[row] == 'Bracket 2'):\n",
    "        data_main['income_dec_num'].iloc[row]  = 1\n",
    "    elif (data_main['S9MONTH'].iloc[row] == 'Bracket 3') | (data_main['S9MONTH'].iloc[row] == 'Bracket 4') | \\\n",
    "    (data_main['S9YEAR'].iloc[row] == 'Bracket 3') | (data_main['S9YEAR'].iloc[row] == 'Bracket 4'):\n",
    "        data_main['income_dec_num'].iloc[row]  = 2\n",
    "    elif (data_main['S9MONTH'].iloc[row] == 'Bracket 5') | (data_main['S9MONTH'].iloc[row] == 'Bracket 6') | \\\n",
    "    (data_main['S9YEAR'].iloc[row] == 'Bracket 5') | (data_main['S9YEAR'].iloc[row] == 'Bracket 6'):\n",
    "        data_main['income_dec_num'].iloc[row]  = 3\n",
    "    elif (data_main['S9MONTH'].iloc[row] == 'Bracket 7') | (data_main['S9MONTH'].iloc[row] == 'Bracket 8') | \\\n",
    "    (data_main['S9YEAR'].iloc[row] == 'Bracket 7') | (data_main['S9YEAR'].iloc[row] == 'Bracket 8'):\n",
    "        data_main['income_dec_num'].iloc[row]  = 4\n",
    "    elif (data_main['S9MONTH'].iloc[row] == 'Bracket 9') | (data_main['S9MONTH'].iloc[row] == 'Bracket 10') | \\\n",
    "    (data_main['S9YEAR'].iloc[row] == 'Bracket 9') | (data_main['S9YEAR'].iloc[row] == 'Bracket 10'):\n",
    "        data_main['income_dec_num'].iloc[row]  = 5\n",
    "    elif (data_main['S9MONTH'].iloc[row] == 'Refused to answer') | (data_main['S9YEAR'].iloc[row] == 'Refused to answer'):\n",
    "        data_main['income_dec_num'].iloc[row]  = np.nan\n",
    "        \n",
    "        \n",
    "data_main['income_dec_num10'] = np.nan\n",
    "for row in range(len(data_main)):\n",
    "    if (data_main['S9MONTH'].iloc[row] == 'Bracket 1') |  \\\n",
    "    (data_main['S9YEAR'].iloc[row] == 'Bracket 1' ):\n",
    "        data_main['income_dec_num10'].iloc[row]  = 1\n",
    "        \n",
    "    elif (data_main['S9MONTH'].iloc[row] == 'Bracket 2') | \\\n",
    "    (data_main['S9YEAR'].iloc[row] == 'Bracket 2'):\n",
    "        data_main['income_dec_num10'].iloc[row]  = 2\n",
    "        \n",
    "    elif (data_main['S9MONTH'].iloc[row] == 'Bracket 3') | \\\n",
    "    (data_main['S9YEAR'].iloc[row] == 'Bracket 3'):\n",
    "        data_main['income_dec_num10'].iloc[row]  = 3 \n",
    "        \n",
    "    elif (data_main['S9MONTH'].iloc[row] == 'Bracket 4') | \\\n",
    "    (data_main['S9YEAR'].iloc[row] == 'Bracket 4'):\n",
    "        data_main['income_dec_num10'].iloc[row]  = 4          \n",
    "\n",
    "    elif (data_main['S9MONTH'].iloc[row] == 'Bracket 5') | \\\n",
    "    (data_main['S9YEAR'].iloc[row] == 'Bracket 5'):\n",
    "        data_main['income_dec_num10'].iloc[row]  = 5       \n",
    "\n",
    "    elif (data_main['S9MONTH'].iloc[row] == 'Bracket 6') | \\\n",
    "    (data_main['S9YEAR'].iloc[row] == 'Bracket 6'):\n",
    "        data_main['income_dec_num10'].iloc[row]  = 6    \n",
    "\n",
    "    elif (data_main['S9MONTH'].iloc[row] == 'Bracket 7') | \\\n",
    "    (data_main['S9YEAR'].iloc[row] == 'Bracket 7'):\n",
    "        data_main['income_dec_num10'].iloc[row]  = 7    \n",
    "        \n",
    "    elif (data_main['S9MONTH'].iloc[row] == 'Bracket 8') | \\\n",
    "    (data_main['S9YEAR'].iloc[row] == 'Bracket 8'):\n",
    "        data_main['income_dec_num10'].iloc[row]  = 8    \n",
    "        \n",
    "    elif (data_main['S9MONTH'].iloc[row] == 'Bracket 9') | \\\n",
    "    (data_main['S9YEAR'].iloc[row] == 'Bracket 9'):\n",
    "        data_main['income_dec_num10'].iloc[row]  = 9    \n",
    "        \n",
    "    elif (data_main['S9MONTH'].iloc[row] == 'Bracket 10') | \\\n",
    "    (data_main['S9YEAR'].iloc[row] == 'Bracket 10'):\n",
    "        data_main['income_dec_num10'].iloc[row]  = 10   \n",
    "        \n",
    "    elif (data_main['S9MONTH'].iloc[row] == 'Refused to answer') | (data_main['S9YEAR'].iloc[row] == 'Refused to answer'):\n",
    "        data_main['income_dec_num10'].iloc[row]  = np.nan\n",
    "        \n",
    "data_main['income_feel'] = np.nan\n",
    "for row in range(len(data_main)):\n",
    "    if data_main['S8'].iloc[row] == 'Finding it very difficult on present income':\n",
    "        data_main['income_feel'].iloc[row]  = 0\n",
    "    elif data_main['S8'].iloc[row] == 'Finding it difficult on present income':\n",
    "        data_main['income_feel'].iloc[row]  = 1\n",
    "    elif data_main['S8'].iloc[row] == 'Coping on present income':\n",
    "        data_main['income_feel'].iloc[row]  = 2\n",
    "    elif data_main['S8'].iloc[row] == 'Living comfortably on present income':\n",
    "        data_main['income_feel'].iloc[row]  = 3\n",
    "    else:\n",
    "        data_main['income_feel'].iloc[row]  = np.nan\n"
   ]
  },
  {
   "cell_type": "code",
   "execution_count": null,
   "metadata": {},
   "outputs": [],
   "source": [
    "data_main ['education'] = np.nan\n",
    "for row in range(len(data_main)):\n",
    "    if data_main['S2'].iloc[row] == 'No formal education or below primary':\n",
    "        data_main['education'].iloc[row]  = 0\n",
    "    elif data_main['S2'].iloc[row] == 'Primary education':\n",
    "        data_main['education'].iloc[row]  = 1\n",
    "    elif data_main['S2'].iloc[row] == 'Secondary  and post-secondary non-tertiary education':\n",
    "        data_main['education'].iloc[row]  = 2\n",
    "    elif data_main['S2'].iloc[row] == 'Tertiary education first stage, i.e. bachelor or master':\n",
    "        data_main['education'].iloc[row]  = 3\n",
    "    elif data_main['S2'].iloc[row] == 'Tertiary education second stage (PhD)':\n",
    "        data_main['education'].iloc[row]  = 4\n",
    "    elif data_main['S2'].iloc[row] == 'Do not know / Refusal':\n",
    "        data_main['education'].iloc[row]  = np.nan"
   ]
  },
  {
   "cell_type": "code",
   "execution_count": null,
   "metadata": {},
   "outputs": [],
   "source": [
    "data_main[\"rural\"] = np.where(\n",
    "    (data_main[\"S6\"] == \"The suburbs or outskirts of a big city\")\n",
    "    | (data_main[\"S6\"] == \"A big city (more than 0,5 mln people)\"), 0,1\n",
    ")\n",
    "data_main.loc[data_main[\"S6\"].isna(), \"rural\"] = np.nan"
   ]
  },
  {
   "cell_type": "code",
   "execution_count": null,
   "metadata": {},
   "outputs": [],
   "source": [
    "fig, axs = plt.subplots(1,3, figsize = (16,6))\n",
    "sns.countplot(x = 'household_members', data = data_main, ax = axs[0], palette=\"Pastel1_d\")\n",
    "axs[0].set_xticklabels(['{:.0f}'.format(float(t.get_text())) for t in axs[0].get_xticklabels()])\n",
    "axs[0].set_xlim(-0.5,14.5)\n",
    "axs[0].set_ylabel('Count')\n",
    "axs[0].set_xlabel('Total household members')\n",
    "axs[0].set_title('Distribution of household members')\n",
    "\n",
    "sns.countplot(x = 'children', data = data_main, ax = axs[1], palette=\"Pastel1_d\")\n",
    "axs[1].set_xticklabels(['{:.0f}'.format(float(t.get_text())) for t in axs[1].get_xticklabels()])\n",
    "axs[1].set_xlim(-0.5,5.5)\n",
    "axs[1].set_ylabel('Count')\n",
    "axs[1].set_xlabel('Children')\n",
    "axs[1].set_title('Distribution of number of children in households')\n",
    "\n",
    "sns.countplot(x = 'elderly', data = data_main, ax = axs[2], palette=\"Pastel1_d\")\n",
    "axs[2].set_xticklabels(['{:.0f}'.format(float(t.get_text())) for t in axs[2].get_xticklabels()])\n",
    "axs[2].set_xlim(-0.5,4.5)\n",
    "axs[2].set_ylabel('Count')\n",
    "axs[2].set_xlabel('Elderly')\n",
    "axs[2].set_title('Distribution of number of elderly in households');\n"
   ]
  },
  {
   "cell_type": "code",
   "execution_count": null,
   "metadata": {},
   "outputs": [],
   "source": [
    "fig, axs = plt.subplots(2,2, figsize = (16,18))\n",
    "sns.countplot(x='S2', data=data_main, order = data_main['S2'].value_counts().index, ax = axs[0,0], palette=\"Pastel1_d\")\n",
    "axs[0,0].set_xticklabels(['Secondary', 'Tertiary', 'Primary', 'PhD', 'No formal edu.', 'Refusal'],rotation=20)\n",
    "axs[0,0].set_ylabel('Count')\n",
    "axs[0,0].set_xlabel('Level of education')\n",
    "axs[0,0].set_title('Education level of respondents')\n",
    "\n",
    "sns.countplot(x='S3', data=data_main, order = data_main['S3'].value_counts().index, ax = axs[0,1], palette=\"Pastel1_d\")\n",
    "axs[0,1].set_xticklabels(['Full-time emp.', 'Retired', 'Part-time emp.', 'Other inactive', 'Student', \n",
    "                          'Not employed (long)', \"Refuse\"],rotation=20)\n",
    "axs[0,1].set_ylabel('Count')\n",
    "axs[0,1].set_xlabel('Employment status')\n",
    "axs[0,1].set_title('Employment status of respondents')\n",
    "\n",
    "sns.distplot(data_main['resp_age'].dropna(), ax = axs[1,0],hist=False, color=\"y\", kde_kws={\"shade\": True})\n",
    "axs[1,0].set_xlabel('age')\n",
    "axs[1,0].set_title('Distribution of respondents age')\n",
    "\n",
    "sns.countplot(x='S6', data=data_main, order = data_main['S6'].value_counts().index, ax = axs[1,1], palette=\"Pastel1_d\")\n",
    "axs[1,1].set_xticklabels(['Town/small city', 'Village', 'Big city', 'Suburbia', 'Farm', 'Refuse'],rotation=20)\n",
    "axs[1,1].set_ylabel('Count')\n",
    "axs[1,1].set_xlabel('Home type')\n",
    "axs[1,1].set_title('Home type of respondents')\n"
   ]
  },
  {
   "cell_type": "code",
   "execution_count": null,
   "metadata": {},
   "outputs": [],
   "source": [
    "plt.figure(figsize = (12,8))\n",
    "ax = sns.countplot(x='income_decile', data=data_main, order =['Refused to answer', 'Poor', 'Low income', 'Lower middle income',\n",
    "                                                             'Upper middle income', 'High income'],palette=\"Pastel1_d\")\n",
    "ax.set_ylabel('Count')\n",
    "ax.set_xlabel('Income group')\n",
    "ax.set_title('Income group of respondents')\n"
   ]
  },
  {
   "cell_type": "code",
   "execution_count": null,
   "metadata": {},
   "outputs": [],
   "source": [
    "#data_main.groupby(['Country', 'income_decile'])['income_decile'].count().head(50)"
   ]
  },
  {
   "cell_type": "code",
   "execution_count": null,
   "metadata": {},
   "outputs": [],
   "source": [
    "data_main['resp_age_group'] = np.nan\n",
    "for i in range(len(data_main)):\n",
    "    if data_main['resp_age'].iloc[i] <= 40:\n",
    "        #print(data_main['resp_age'].iloc[i])\n",
    "        data_main['resp_age_group'].iloc[i] = 'Young'\n",
    "    elif (data_main['resp_age'].iloc[i] >= 41) & (data_main['resp_age'].iloc[i] <= 60):\n",
    "        data_main['resp_age_group'].iloc[i] = 'Middle age' \n",
    "    elif (data_main['resp_age'].iloc[i] >= 61):\n",
    "        data_main['resp_age_group'].iloc[i] = 'Old' \n",
    "    else:\n",
    "        data_main['resp_age_group'].iloc[i] = np.nan\n",
    "        \n",
    "        \n",
    "data_main['resp_age_bins'] = np.nan\n",
    "for i in range(len(data_main)):\n",
    "    if data_main['resp_age'].iloc[i] <= 39:\n",
    "        #print(data_main['resp_age'].iloc[i])\n",
    "        data_main['resp_age_bins'].iloc[i] = '30-39'\n",
    "    elif (data_main['resp_age'].iloc[i] >= 40) & (data_main['resp_age'].iloc[i] <= 49):\n",
    "        data_main['resp_age_bins'].iloc[i] = '40-49' \n",
    "    elif (data_main['resp_age'].iloc[i] >= 50) & (data_main['resp_age'].iloc[i] <= 59):\n",
    "        data_main['resp_age_bins'].iloc[i] = '50-59' \n",
    "    elif (data_main['resp_age'].iloc[i] >= 60) & (data_main['resp_age'].iloc[i] <= 69):\n",
    "        data_main['resp_age_bins'].iloc[i] = '60-69'\n",
    "    elif (data_main['resp_age'].iloc[i] >= 70) & (data_main['resp_age'].iloc[i] <= 79):\n",
    "        data_main['resp_age_bins'].iloc[i] = '70-79' \n",
    "    elif (data_main['resp_age'].iloc[i] >= 80) & (data_main['resp_age'].iloc[i] <= 93):\n",
    "        data_main['resp_age_bins'].iloc[i] = '80-93' \n",
    "    else:\n",
    "        data_main['resp_age_bins'].iloc[i] = np.nan"
   ]
  },
  {
   "cell_type": "markdown",
   "metadata": {},
   "source": [
    "### Energy cost"
   ]
  },
  {
   "cell_type": "code",
   "execution_count": null,
   "metadata": {},
   "outputs": [],
   "source": [
    "data_main['electricity_cost_monthly'] = data_main['H8A']/data_main['Currency_toeur']\n",
    "data_main['heating_cost_yearly'] = (data_main['H7A1']*data_main['H7AA'])/data_main['Currency_toeur'] #Not too usable"
   ]
  },
  {
   "cell_type": "code",
   "execution_count": null,
   "metadata": {},
   "outputs": [],
   "source": [
    "data_main['heating_cost_yearly'].dropna().count()"
   ]
  },
  {
   "cell_type": "code",
   "execution_count": null,
   "metadata": {},
   "outputs": [],
   "source": [
    "fig, axs = plt.subplots(1,2, figsize = (16,6))\n",
    "plt.figure(figsize = (10,6))\n",
    "sns.boxplot(data=data_main, y='H6A1', x='Country', showfliers=False, showmeans=True, ax = axs[0])\n",
    "axs[0].set_xticklabels(axs[0].get_xticklabels(),rotation=90)\n",
    "axs[0].set_ylabel('Share in heating (%)')\n",
    "axs[0].set_title('Electricity share in heating by country')\n",
    "\n",
    "sns.boxplot(data=data_main, y='electricity_cost_monthly', x='Country', showfliers=False, showmeans=True, ax = axs[1])\n",
    "axs[1].set_xticklabels(axs[1].get_xticklabels(),rotation=90)\n",
    "axs[1].set_ylabel('Electricity bill (EUR)')\n",
    "axs[1].set_title('Average montly electricity bill by country');"
   ]
  },
  {
   "cell_type": "code",
   "execution_count": null,
   "metadata": {},
   "outputs": [],
   "source": [
    "\n",
    "plt.figure(figsize = (10,6))\n",
    "ax = sns.boxplot(data=data_main, y='heating_cost_yearly', x='Country', showfliers=False, showmeans=True)\n",
    "ax.set_xticklabels(ax.get_xticklabels(),rotation=90)\n",
    "ax.set_ylabel('Heating bill')\n",
    "ax.set_title('Average montly heating bill by country');"
   ]
  },
  {
   "cell_type": "markdown",
   "metadata": {},
   "source": [
    "### Appliances"
   ]
  },
  {
   "cell_type": "code",
   "execution_count": null,
   "metadata": {},
   "outputs": [],
   "source": [
    "data_main['appliance_age_avg'] = np.nan\n",
    "def age_count(df):\n",
    "    appliance = ['H11A', 'H11B', 'H11C', 'H11D', 'H11E', 'H11F', 'H11G', 'H11H']\n",
    "    age = 0\n",
    "    no_app = 0\n",
    "\n",
    "    for i in appliance:\n",
    "        if df[i] == 'Up to 3 years old':\n",
    "            age += 1\n",
    "        elif df[i] == '4-10 years old':\n",
    "            age += 2\n",
    "        elif df[i] == 'Older than 10 years':\n",
    "            age += 3\n",
    "        elif (df[i] == 'Do not have') | (pd.isnull(df[i])):\n",
    "            #print(df[i])\n",
    "            no_app += 1\n",
    "\n",
    "    if no_app < len(appliance):\n",
    "        return age/(len(appliance)-no_app)\n",
    "    elif no_app == len(appliance):\n",
    "        return np.nan\n",
    "\n",
    "\n",
    "data_main['appliance_age_avg'] = data_main.apply(age_count, axis=1)"
   ]
  },
  {
   "cell_type": "code",
   "execution_count": null,
   "metadata": {},
   "outputs": [],
   "source": [
    "fig, axs = plt.subplots(1,2, figsize = (16,8))\n",
    "\n",
    "sns.distplot(data_main['appliance_age_avg'].dropna(), ax = axs[0], bins = 20)\n",
    "\n",
    "axs[0].set_xlabel('Age')\n",
    "axs[0].set_title('Distribution of households` appliances average age')\n",
    "\n",
    "\n",
    "sns.boxplot(data=data_main, y='appliance_age_avg', x='Country', showfliers=False, showmeans=True, ax = axs[1])\n",
    "axs[1].set_xticklabels(axs[1].get_xticklabels(),rotation=45)\n",
    "axs[1].set_ylabel('Country')\n",
    "axs[1].set_title('Distribtuon of appliance average age by country')"
   ]
  },
  {
   "cell_type": "code",
   "execution_count": null,
   "metadata": {},
   "outputs": [],
   "source": [
    "#translate it to percentages\n",
    "data_main['ef_bulbs'] = np.nan\n",
    "for row in range(len(data_main)):\n",
    "    if data_main['H12A'].iloc[row] == 'nan':\n",
    "        data_main['ef_bulbs'].iloc[row]  =  np.nan\n",
    "    elif data_main['H12B'].iloc[row] == 'All':\n",
    "        data_main['ef_bulbs'].iloc[row]  =  1\n",
    "    elif data_main['H12B'].iloc[row] == 'Most':\n",
    "        data_main['ef_bulbs'].iloc[row]  =  0.75      \n",
    "    elif data_main['H12B'].iloc[row] == 'About half':\n",
    "        data_main['ef_bulbs'].iloc[row]  =  0.5     \n",
    "    elif data_main['H12B'].iloc[row] == 'Some':\n",
    "        data_main['ef_bulbs'].iloc[row]  =  0.25\n",
    "    elif data_main['H12B'].iloc[row] == 'None':\n",
    "        data_main['ef_bulbs'].iloc[row]  =  0"
   ]
  },
  {
   "cell_type": "code",
   "execution_count": null,
   "metadata": {},
   "outputs": [],
   "source": [
    "smart_meter = pd.DataFrame.from_dict({'Electricity smart meter': data_main['H13A'][data_main['H13A'] == 'Yes'].count(),\n",
    "                                     'Gas smart meter': data_main['H13B'][data_main['H13B'] == 'Yes'].count(), \n",
    "                                     'Heating smart meter': data_main['H13C'][data_main['H13C'] == 'Yes'].count()}, orient='index')"
   ]
  },
  {
   "cell_type": "code",
   "execution_count": null,
   "metadata": {},
   "outputs": [],
   "source": [
    "fig, axs = plt.subplots(2,2, figsize = (16,20))\n",
    "sns.countplot(x='ef_bulbs', data=data_main, ax = axs[0,0], palette=\"GnBu_d\")\n",
    "axs[0,0].set_xlabel('Proportion of ef. bulbs')\n",
    "axs[0,0].set_ylabel('Count')\n",
    "axs[0,0].set_title('Proportion of energy efficient bulbs in households')\n",
    "\n",
    "smart_meter.sort_values(by = 0, ascending = False).plot.bar(ax = axs[0,1], color = [sns.color_palette(\"GnBu_d\")])\n",
    "axs[0,1].set_xticklabels(axs[0,1].get_xticklabels(),rotation=0)\n",
    "axs[0,1].set_ylabel('Count')\n",
    "axs[0,1].set_title('Number of smart meters by type')\n",
    "\n",
    "data_main.groupby('Country')['ef_bulbs'].mean().sort_values().plot.bar(ax = axs[1,0], color = [(0.21697808535178778, 0.3273356401384083, 0.36941176470588233), (0.23442778418556967, 0.4582083813917724, 0.5435294117647058), (0.25140586953735744, 0.5855440215301807, 0.7129411764705882), (0.3248084070229399, 0.6849314366269383, 0.7899474561066256), (0.45066769191336664, 0.7509983339741125, 0.7703857490708702), (0.5800230680507498, 0.8189004229142638, 0.7502806612841215)])\n",
    "axs[1,0].set_ylabel('Proportion')\n",
    "axs[1,0].set_title('Proportion of ef. bulbs by country')\n",
    "\n",
    "data_main[data_main['H13A'] == 'Yes'].groupby('Country')['H13A'].count().sort_values().plot.bar(ax = axs[1,1], color = [(0.21697808535178778, 0.3273356401384083, 0.36941176470588233), (0.23442778418556967, 0.4582083813917724, 0.5435294117647058), (0.25140586953735744, 0.5855440215301807, 0.7129411764705882), (0.3248084070229399, 0.6849314366269383, 0.7899474561066256), (0.45066769191336664, 0.7509983339741125, 0.7703857490708702), (0.5800230680507498, 0.8189004229142638, 0.7502806612841215)])\n",
    "axs[1,1].set_ylabel('Count')\n",
    "axs[1,1].set_title('Number of electricity smart meters by country');"
   ]
  },
  {
   "cell_type": "code",
   "execution_count": null,
   "metadata": {},
   "outputs": [],
   "source": [
    "def green(df):\n",
    "    if df == 'Not Mentioned':\n",
    "        return 0\n",
    "    elif df == 'Mentioned':\n",
    "        return 1\n",
    "    else:\n",
    "        return np.nan\n",
    "\n",
    "greens = ['green_1', 'green_2','green_3','green_4','green_5']\n",
    "green_orig = ['G1A1', 'G1A2','G1A3','G1A4','G1A5']\n",
    "\n",
    "for a,b in zip(greens, green_orig):\n",
    "    data_main[a] = data_main[b].apply(green)"
   ]
  },
  {
   "cell_type": "code",
   "execution_count": null,
   "metadata": {},
   "outputs": [],
   "source": [
    "data_main.groupby('Country')[['green_1', 'green_2','green_3','green_4','green_5']].agg({'mean', 'count', 'median'})"
   ]
  },
  {
   "cell_type": "code",
   "execution_count": null,
   "metadata": {},
   "outputs": [],
   "source": [
    "fig, axs = plt.subplots(2,2, figsize=(12,12))\n",
    " \n",
    "greens = ['green_1', 'green_2','green_3','green_5']\n",
    "\n",
    "for a,b,green in zip([0,0,1,1],[0,1,0,1], greens):\n",
    "    data_main.groupby([green])[[green]].count().plot.bar(ax = axs[a,b]);\n"
   ]
  },
  {
   "cell_type": "code",
   "execution_count": null,
   "metadata": {},
   "outputs": [],
   "source": [
    "data_main[\"subsidy\"] = np.nan\n",
    "for row in range(len(data_main)):\n",
    "    if (data_main[\"G3C\"].iloc[row] == 'Yes') | (data_main[\"G3D\"].iloc[row] == 'Yes'):\n",
    "        data_main[\"subsidy\"].iloc[row] = 1\n",
    "    elif (type(data_main[\"G3C\"].iloc[row]) == float) & (type(data_main[\"G3D\"].iloc[row]) == float):\n",
    "        data_main[\"subsidy\"].iloc[row] = np.nan\n",
    "    else:\n",
    "        data_main[\"subsidy\"].iloc[row] = 0"
   ]
  },
  {
   "cell_type": "markdown",
   "metadata": {},
   "source": [
    "### Attitudes"
   ]
  },
  {
   "cell_type": "code",
   "execution_count": null,
   "metadata": {},
   "outputs": [],
   "source": [
    "def attitude(df1):\n",
    "    \n",
    "    if df1 == 'Strongly agree':\n",
    "        return 4\n",
    "    elif df1 == 'Agree':\n",
    "        return 3\n",
    "    elif df1 == 'Disagree':\n",
    "        return 2\n",
    "    elif df1 == 'Strongly disagree':\n",
    "        return 1\n",
    "    elif pd.isnull(df1):\n",
    "        return np.nan\n",
    "\n",
    "attitude_list = ['not_willing', 'overstated_imp', 'job_of_future', 'willing_comp', 'no_extra_money', 'tech_prog_help',\n",
    "                 'env_prot_helps_growth']\n",
    "att_list = ['H15A','H15B','H15C','H15D','H15E','H15F','H15G']\n",
    "\n",
    "for a,b in zip(attitude_list, att_list):\n",
    "    data_main[a] =  data_main[b].apply(attitude)\n",
    "\n",
    "data_main[['not_willing', 'overstated_imp', 'job_of_future', 'willing_comp', 'no_extra_money', 'tech_prog_help',\n",
    "                 'env_prot_helps_growth']] = data_main[['not_willing', 'overstated_imp', 'job_of_future', 'willing_comp', 'no_extra_money', 'tech_prog_help',\n",
    "                 'env_prot_helps_growth']].astype('float')"
   ]
  },
  {
   "cell_type": "code",
   "execution_count": null,
   "metadata": {
    "scrolled": false
   },
   "outputs": [],
   "source": [
    "data_main.groupby('Country')[['not_willing', 'overstated_imp', 'job_of_future', 'willing_comp', 'no_extra_money', 'tech_prog_help',\n",
    "                  'env_prot_helps_growth']].agg({'mean', 'count', 'median'})"
   ]
  },
  {
   "cell_type": "code",
   "execution_count": null,
   "metadata": {},
   "outputs": [],
   "source": [
    "fig, axs = plt.subplots(2,4, figsize=(15,12))\n",
    " \n",
    "attitudes = ['not_willing', 'overstated_imp', 'job_of_future', 'willing_comp', 'no_extra_money', 'tech_prog_help',\n",
    "            'env_prot_helps_growth']\n",
    "\n",
    "for a,b,att in zip([0,0,0,0,1,1,1,1],[0,1,2,3,0,1,2,3], attitudes):\n",
    "    data_main.groupby([att])[[att]].count().plot.bar(ax = axs[a,b]);"
   ]
  },
  {
   "cell_type": "code",
   "execution_count": null,
   "metadata": {},
   "outputs": [],
   "source": [
    "def pol(df):\n",
    "    if df == 'Not Mentioned':\n",
    "        return 0\n",
    "    elif df == 'Mentioned':\n",
    "        return 1\n",
    "    else:\n",
    "        return np.nan\n",
    "\n",
    "policy = ['policy_1', 'policy_2','policy_3','policy_4','policy_5', 'policy_6']\n",
    "policy_orig = ['G2A1', 'G2A2','G2A3','G2A4','G2A5', 'G2A6']\n",
    "\n",
    "for a,b in zip(policy, policy_orig):\n",
    "    data_main[a] = data_main[b].apply(pol)"
   ]
  },
  {
   "cell_type": "code",
   "execution_count": null,
   "metadata": {},
   "outputs": [],
   "source": [
    "data_main.groupby('Country')[['policy_1', 'policy_2','policy_3','policy_4','policy_5', 'policy_6']].agg({'mean', 'count', 'median'})"
   ]
  },
  {
   "cell_type": "code",
   "execution_count": null,
   "metadata": {},
   "outputs": [],
   "source": [
    "fig, axs = plt.subplots(2,3, figsize=(15,12))\n",
    " \n",
    "policy = ['policy_1', 'policy_2','policy_3','policy_4','policy_5', 'policy_6']\n",
    "\n",
    "for a,b,pol in zip([0,0,0,1,1,1],[0,1,2,0,1,2], policy):\n",
    "    data_main.groupby([pol])[[pol]].count().plot.bar(ax = axs[a,b]);"
   ]
  },
  {
   "cell_type": "code",
   "execution_count": null,
   "metadata": {},
   "outputs": [],
   "source": [
    "def governance(df1):\n",
    "    \n",
    "    if df1 == '5 Totally disagree':\n",
    "        return 1\n",
    "    elif df1 == '2':\n",
    "        return 2\n",
    "    elif df1 == '3':\n",
    "        return 3\n",
    "    elif df1 == '4':\n",
    "        return 4\n",
    "    elif df1 == '1  Totally agree':\n",
    "        return 5\n",
    "    else:\n",
    "        return np.nan\n",
    "\n",
    "gov = ['no_car', 'res_rich', 'eff_car_smalltax', 'res_good', 'elect_car_notax']\n",
    "gov_origin = ['G5A','G5B','G5C','G5D','G5E']\n",
    "\n",
    "for a,b in zip(gov, gov_origin):\n",
    "    data_main[a] =  data_main[b].apply(governance)"
   ]
  },
  {
   "cell_type": "markdown",
   "metadata": {},
   "source": [
    "**Less usable = data only from Bulgaria, Germany, Serbia and UK**"
   ]
  },
  {
   "cell_type": "code",
   "execution_count": null,
   "metadata": {},
   "outputs": [],
   "source": [
    "def green(df):\n",
    "    if df == 'Not Mentioned':\n",
    "        return 0\n",
    "    elif df == 'Mentioned':\n",
    "        return 1\n",
    "    else:\n",
    "        return np.nan\n",
    "\n",
    "efficient = ['eff_1', 'eff_2','eff_3','eff_4']\n",
    "efficient_orig = ['E6A1', 'E6A2', 'E6A3', 'E6A4']\n",
    "\n",
    "for a,b in zip(efficient, efficient_orig):\n",
    "    data_main[a] = data_main[b].apply(green)"
   ]
  },
  {
   "cell_type": "code",
   "execution_count": null,
   "metadata": {},
   "outputs": [],
   "source": [
    "fig, axs = plt.subplots(2,2, figsize=(15,12))\n",
    " \n",
    "policy = ['eff_1', 'eff_2','eff_3','eff_4']\n",
    "\n",
    "for a,b,pol in zip([0,0,1,1],[0,1,0,1], policy):\n",
    "    data_main.groupby([pol])[[pol]].count().plot.bar(ax = axs[a,b]);"
   ]
  },
  {
   "cell_type": "code",
   "execution_count": null,
   "metadata": {},
   "outputs": [],
   "source": [
    "data_main ['temp_ef'] = np.nan\n",
    "for row in range(len(data_main)):\n",
    "    if data_main['C3'].iloc[row] == 'The room temperature is the same in all the rooms.':\n",
    "        data_main['temp_ef'].iloc[row]  = 0\n",
    "    elif data_main['C3'].iloc[row] == 'We heat only the rooms that are in use.':\n",
    "        data_main['temp_ef'].iloc[row]  = 1\n",
    "    else:\n",
    "        data_main['temp_ef'].iloc[row]  = np.nan"
   ]
  },
  {
   "cell_type": "markdown",
   "metadata": {},
   "source": [
    "### Correlations"
   ]
  },
  {
   "cell_type": "markdown",
   "metadata": {},
   "source": [
    "**1) Correlation of energy efficient tech/behaviour**"
   ]
  },
  {
   "cell_type": "code",
   "execution_count": null,
   "metadata": {},
   "outputs": [],
   "source": [
    "tech = data_main[['ef_bulbs', 'appliance_age_avg','green_1', 'green_2', 'green_3', 'green_5']]\n",
    "plt.figure(figsize=(8,6))\n",
    "sns.heatmap(tech.corr(), annot = True)"
   ]
  },
  {
   "cell_type": "markdown",
   "metadata": {},
   "source": [
    "**2) Correlation of energy efficient attitudes**"
   ]
  },
  {
   "cell_type": "code",
   "execution_count": null,
   "metadata": {},
   "outputs": [],
   "source": [
    "atti = data_main[['policy_1', 'policy_2', 'policy_3', 'policy_4', 'policy_5', 'policy_6']]\n",
    "fig, axs = plt.subplots(3,1, figsize = (10,20))\n",
    "sns.heatmap(atti.corr(), annot = True, ax = axs[0])\n",
    "\n",
    "atti2 = data_main[['not_willing', 'overstated_imp', 'job_of_future', 'willing_comp', 'no_extra_money', 'tech_prog_help',\n",
    "                 'env_prot_helps_growth']]\n",
    "sns.heatmap(atti2.corr(), annot = True, ax = axs[2])\n",
    "\n",
    "atti3 = data_main[['res_rich', 'eff_car_smalltax', 'res_good', 'elect_car_notax']]\n",
    "sns.heatmap(atti3.corr(), annot = True, ax = axs[1])"
   ]
  },
  {
   "cell_type": "markdown",
   "metadata": {},
   "source": [
    "**3) Correlation of all attitudes**"
   ]
  },
  {
   "cell_type": "code",
   "execution_count": null,
   "metadata": {},
   "outputs": [],
   "source": [
    "atti_all = data_main[['policy_1', 'policy_2', 'policy_3', 'policy_4', 'policy_5', 'policy_6',\n",
    "                     'not_willing', 'overstated_imp', 'job_of_future', 'willing_comp', 'no_extra_money', 'tech_prog_help',\n",
    "                 'env_prot_helps_growth', 'no_car', 'res_rich', 'eff_car_smalltax', 'res_good', 'elect_car_notax']]\n",
    "\n",
    "plt.figure(figsize = (18,12))\n",
    "sns.heatmap(atti_all.corr(), annot = True)              "
   ]
  },
  {
   "cell_type": "markdown",
   "metadata": {},
   "source": [
    "**4) Correlation with efficiency measures**"
   ]
  },
  {
   "cell_type": "code",
   "execution_count": null,
   "metadata": {},
   "outputs": [],
   "source": [
    "eff_pol = data_main[['ef_bulbs', 'appliance_age_avg','green_1', 'green_2', 'green_3', 'green_5','policy_1', 'policy_2', 'policy_3', 'policy_4', 'policy_5', 'policy_6']]\n",
    "fig, axs = plt.subplots(3,1, figsize = (10,20))\n",
    "sns.heatmap(eff_pol.corr(), annot = True, ax = axs[0])\n",
    "\n",
    "eff_pol = data_main[['ef_bulbs', 'appliance_age_avg','green_1', 'green_2', 'green_3', 'green_5','res_rich', 'eff_car_smalltax', 'res_good', 'elect_car_notax']]\n",
    "sns.heatmap(eff_pol.corr(), annot = True, ax = axs[1])\n",
    "\n",
    "eff_pol = data_main[['ef_bulbs', 'appliance_age_avg','green_1', 'green_2', 'green_3', 'green_5','not_willing', 'overstated_imp', 'job_of_future', 'willing_comp', 'no_extra_money', 'tech_prog_help',\n",
    "                 'env_prot_helps_growth']]\n",
    "sns.heatmap(eff_pol.corr(), annot = True, ax = axs[2])\n"
   ]
  },
  {
   "cell_type": "markdown",
   "metadata": {},
   "source": [
    "### Cronbach Alpha for Likert variables\n",
    "- Have attention checks to sort out respondents that answered randomly.\n",
    "- Do a cronbach α or a similar measure to see that all questions are sufficiently aligned.\n",
    "- Do a PCA to see that the scale really measures a unidimensional quantity. Most of the variability should be in just one principal component.\n",
    "\n",
    "https://stats.stackexchange.com/questions/207775/how-to-combine-likert-items-into-a-single-variable"
   ]
  },
  {
   "cell_type": "markdown",
   "metadata": {},
   "source": [
    "**Cronbach alpha test on independent variables to be merged**"
   ]
  },
  {
   "cell_type": "code",
   "execution_count": null,
   "metadata": {},
   "outputs": [],
   "source": [
    "def attitude_reverse(df1):\n",
    "    \n",
    "    if df1 == 'Strongly agree':\n",
    "        return 1\n",
    "    elif df1 == 'Agree':\n",
    "        return 2\n",
    "    elif df1 == 'Disagree':\n",
    "        return 3\n",
    "    elif df1 == 'Strongly disagree':\n",
    "        return 4\n",
    "    elif pd.isnull(df1):\n",
    "        return np.nan\n",
    "\n",
    "\n",
    "attitude_list = ['not_willing_reverse', 'overstated_imp_reverse', 'job_of_future_reverse', 'willing_comp_reverse', \n",
    "                 'no_extra_money_reverse', 'tech_prog_help_reverse', 'env_prot_helps_growth_reverse']\n",
    "att_list = ['H15A','H15B','H15C','H15D','H15E','H15F','H15G']\n",
    "\n",
    "\n",
    "for a,b in zip(attitude_list, att_list):\n",
    "    data_main[a] =  data_main[b].apply(attitude_reverse)\n",
    "    \n",
    "data_main[['not_willing_reverse', 'overstated_imp_reverse', 'job_of_future_reverse', 'willing_comp_reverse', \n",
    "                 'no_extra_money_reverse', 'tech_prog_help_reverse', 'env_prot_helps_growth_reverse']] = data_main[['not_willing_reverse', 'overstated_imp_reverse', 'job_of_future_reverse', 'willing_comp_reverse', \n",
    "                                                                                                                    'no_extra_money_reverse', 'tech_prog_help_reverse', 'env_prot_helps_growth_reverse']].astype('float')"
   ]
  },
  {
   "cell_type": "code",
   "execution_count": null,
   "metadata": {},
   "outputs": [],
   "source": [
    "def attitude_reverse_binary(df1):\n",
    "    \n",
    "    if df1 == 'Strongly agree':\n",
    "        return 0\n",
    "    elif df1 == 'Agree':\n",
    "        return 0\n",
    "    elif df1 == 'Disagree':\n",
    "        return 1\n",
    "    elif df1 == 'Strongly disagree':\n",
    "        return 1\n",
    "    elif pd.isnull(df1):\n",
    "        return np.nan\n",
    "\n",
    "\n",
    "attitude_list = ['not_willing_revbi', 'overstated_imp_revbi', 'job_of_future_revbi', 'willing_comp_revbi', \n",
    "                 'no_extra_money_revbi', 'tech_prog_help_revbi', 'env_prot_helps_growth_revbi']\n",
    "att_list = ['H15A','H15B','H15C','H15D','H15E','H15F','H15G']\n",
    "\n",
    "\n",
    "for a,b in zip(attitude_list, att_list):\n",
    "    data_main[a] =  data_main[b].apply(attitude_reverse_binary)\n",
    "    \n",
    "data_main[['not_willing_revbi', 'overstated_imp_revbi', 'job_of_future_revbi', 'willing_comp_revbi', \n",
    "                 'no_extra_money_revbi', 'tech_prog_help_revbi', 'env_prot_helps_growth_revbi']] = data_main[['not_willing_revbi', 'overstated_imp_revbi', 'job_of_future_revbi', 'willing_comp_revbi', \n",
    "                                                                                                              'no_extra_money_revbi', 'tech_prog_help_revbi', 'env_prot_helps_growth_revbi']].astype('float')"
   ]
  },
  {
   "cell_type": "code",
   "execution_count": null,
   "metadata": {},
   "outputs": [],
   "source": [
    "def CronbachAlpha(itemscores):\n",
    "    itemscores = np.asarray(itemscores)\n",
    "    itemvars = itemscores.T.var(axis=1)\n",
    "    tscores = itemscores.sum(axis=1)\n",
    "    nitems = len(itemscores[0])\n",
    "    tscorevar = tscores.var()\n",
    "\n",
    "    return round(nitems / (nitems-1) * (1 - itemvars.sum() / tscores.var()), 3)"
   ]
  },
  {
   "cell_type": "code",
   "execution_count": null,
   "metadata": {},
   "outputs": [],
   "source": [
    "alpha_indep = CronbachAlpha(\n",
    "    data_main[\n",
    "        [\n",
    "            \"not_willing_reverse\",\n",
    "            \"overstated_imp_reverse\",\n",
    "            \"tech_prog_help_reverse\",\n",
    "            \"job_of_future_reverse\",\n",
    "        ]\n",
    "    ].dropna()\n",
    ")\n",
    "alpha_indep"
   ]
  },
  {
   "cell_type": "markdown",
   "metadata": {},
   "source": [
    "### Independent variable =  Standardizing Likert variables "
   ]
  },
  {
   "cell_type": "code",
   "execution_count": null,
   "metadata": {},
   "outputs": [],
   "source": [
    "sns.set_style(\"whitegrid\")"
   ]
  },
  {
   "cell_type": "markdown",
   "metadata": {},
   "source": [
    "**Following Bloom et al. 2014 standardization method**"
   ]
  },
  {
   "cell_type": "code",
   "execution_count": null,
   "metadata": {},
   "outputs": [],
   "source": [
    "data_main['attitude'] = (data_main['not_willing_reverse'] + data_main['overstated_imp_reverse']\\\n",
    "+ data_main['tech_prog_help_reverse'] + data_main['job_of_future_reverse'])/4"
   ]
  },
  {
   "cell_type": "code",
   "execution_count": null,
   "metadata": {},
   "outputs": [],
   "source": [
    "data_main[\"att_std\"] = np.nan\n",
    "\n",
    "for row in range(len(data_main)):\n",
    "    data_main[\"att_std\"].iloc[row] = (\n",
    "        (\n",
    "            (\n",
    "                data_main[\"not_willing_reverse\"].iloc[row]\n",
    "                - data_main[\"not_willing_reverse\"].mean()\n",
    "            )\n",
    "            / data_main[\"not_willing_reverse\"].std()\n",
    "        )\n",
    "        + (\n",
    "            (\n",
    "                data_main[\"overstated_imp_reverse\"].iloc[row]\n",
    "                - data_main[\"overstated_imp_reverse\"].mean()\n",
    "            )\n",
    "            / data_main[\"overstated_imp_reverse\"].std()\n",
    "        )\n",
    "        + (\n",
    "            (\n",
    "                data_main[\"tech_prog_help_reverse\"].iloc[row]\n",
    "                - data_main[\"tech_prog_help_reverse\"].mean()\n",
    "            )\n",
    "            / data_main[\"tech_prog_help_reverse\"].std()\n",
    "        )\n",
    "        + (\n",
    "            (\n",
    "                data_main[\"job_of_future_reverse\"].iloc[row]\n",
    "                - data_main[\"job_of_future_reverse\"].mean()\n",
    "            )\n",
    "            / data_main[\"job_of_future_reverse\"].std()\n",
    "        )\n",
    "    ) / 4\n",
    "\n",
    "data_main[\"att_2std\"] = np.nan\n",
    "for row in range(len(data_main)):\n",
    "    data_main[\"att_2std\"].iloc[row] = (\n",
    "        data_main[\"att_std\"].iloc[row] - data_main[\"att_std\"].mean()\n",
    "    ) / data_main[\"att_std\"].std()"
   ]
  },
  {
   "cell_type": "markdown",
   "metadata": {},
   "source": [
    "**Dealing with NA values for important variables**"
   ]
  },
  {
   "cell_type": "code",
   "execution_count": null,
   "metadata": {},
   "outputs": [],
   "source": [
    "data_main = data_main[data_main['resp_age'] >= 30]"
   ]
  },
  {
   "cell_type": "code",
   "execution_count": null,
   "metadata": {},
   "outputs": [],
   "source": [
    "def impute_missing(var):\n",
    "    data_main[var].fillna(data_main[var].median(), inplace = True)\n",
    "    \n",
    "variables = [\n",
    "        \"rural\",\n",
    "        \"gender\",\n",
    "        \"resp_age\",\n",
    "        \"detached\",\n",
    "        \"children\",\n",
    "        \"elderly\",\n",
    "        \"subsidy\",\n",
    "        \"semi_detached\"]\n",
    "\n",
    "for var in variables:\n",
    "    impute_missing(var)\n",
    "    \n",
    "data_main['income_decile'] = np.where(data_main['income_decile'].isna(), \"Lower middle income\", data_main['income_decile'])\n",
    "data_main.dropna(subset = ['S3', 'Country', 'att_2std', 'ef_bulbs', 'green_3', 'green_2'], inplace = True)"
   ]
  },
  {
   "cell_type": "code",
   "execution_count": null,
   "metadata": {},
   "outputs": [],
   "source": [
    "countries = data_main.groupby('Country')['Country'].count().reset_index(name='Count').sort_values(by = 'Count')\n",
    "countries"
   ]
  },
  {
   "cell_type": "code",
   "execution_count": null,
   "metadata": {},
   "outputs": [],
   "source": [
    "sns.set_palette(\"viridis\")\n",
    "plt.figure(figsize = (11,8))\n",
    "sns.barplot(\n",
    "   x = \"Country\", y = \"Count\", data=countries, color = \"#4B2974\"\n",
    ")\n",
    "plt.ylabel('Observations (N)')\n",
    "plt.savefig(\"results/country_obs.png\")"
   ]
  },
  {
   "cell_type": "code",
   "execution_count": null,
   "metadata": {},
   "outputs": [],
   "source": [
    "def sample_table(data, indi, names):\n",
    "    table = pd.DataFrame()\n",
    "    for i,n in zip(indi, names):\n",
    "        sub_table = data.groupby(i)[i].count().reset_index(name='Number')\n",
    "        sub_table.rename(columns = {i: \"Item\"}, inplace = True)\n",
    "        sub_table[\"Percentage (%)\"] = np.nan\n",
    "        for i in range(len(sub_table)):\n",
    "            sub_table[\"Percentage (%)\"].iloc[i] = round(sub_table[\"Number\"].iloc[i]/sub_table[\"Number\"].sum()*100)\n",
    "        name_list = [n]*len(sub_table)\n",
    "        sub_table.index = name_list\n",
    "        table = table.append(sub_table)\n",
    "    return table\n",
    "\n",
    "table_des = sample_table(data_main, ['S5', \"resp_age_bins\", \"S2\", 'income_decile', \"S3\", \"Country\", \"S6\", \"H1\"], ['Gender', \"Age\", \"Education level\", \"Income quantile\", \"Employment status\", \"Country\", \"Region\", \"Home type\"])\n",
    "table_des.to_excel(\"results/descriptives.xlsx\")"
   ]
  },
  {
   "cell_type": "code",
   "execution_count": null,
   "metadata": {
    "scrolled": false
   },
   "outputs": [],
   "source": [
    "plt.figure(figsize = (10,8))\n",
    "ax =  sns.distplot(data_main['att_2std'].dropna(),hist=False, color=\"c\", kde_kws={\"shade\": True})\n",
    "plt.xlabel(\"Attitude Index\")\n",
    "kde_x, kde_y = ax.lines[0].get_data()\n",
    "p1 = plt.axvline(x=0,color='#EF9A9A')\n",
    "ax.fill_between(kde_x, kde_y, where=(kde_x>0) ,interpolate=True, color='#EF9A9A')\n",
    "\n",
    "plt.savefig('results/attindexdist.png')"
   ]
  },
  {
   "cell_type": "code",
   "execution_count": null,
   "metadata": {},
   "outputs": [],
   "source": [
    "attitude1 = (\n",
    "    data_main.groupby(\"att_2std\")[\"green_3\"].agg([np.mean, np.std]).reset_index()\n",
    ")\n",
    "attitude2 = (\n",
    "    data_main.groupby(\"att_2std\")[\"ef_bulbs\"].agg([np.mean, np.std]).reset_index()\n",
    ")\n",
    "attitude3 = (\n",
    "    data_main.groupby(\"att_2std\")[\"green_2\"].agg([np.mean, np.std]).reset_index()\n",
    ")\n",
    "attitude4 = (\n",
    "    data_main.groupby(\"att_2std\")[\"green_1\"].agg([np.mean, np.std]).reset_index()\n",
    ")\n",
    "\n",
    "sns.set_palette(\"viridis\")\n",
    "fig, axes = plt.subplots(3, 1, figsize=(8, 15))\n",
    "for att, r, name in zip(\n",
    "    [attitude1, attitude2, attitude3, attitude4],\n",
    "    [0, 1, 2],\n",
    "    [\n",
    "        \"Energy Efficient Appliances\",\n",
    "        \"Proportion of Energy Efficient Lightbulbs\",\n",
    "        \"Alternative transport\",\n",
    "        \"Efficient car\",\n",
    "    ],\n",
    "):\n",
    "    sns.regplot(x=\"att_2std\", y=\"mean\", data=att, lowess=True,ci=\"sd\", ax=axes[r])\n",
    "    axes[r].set_xlabel(\"Attitude Index\")\n",
    "    axes[r].set_ylabel(name)\n",
    "\n",
    "plt.savefig('results/depindep.png')"
   ]
  },
  {
   "cell_type": "code",
   "execution_count": null,
   "metadata": {},
   "outputs": [],
   "source": [
    "country_nums = data_main.groupby(\"Country\").agg({\"Country\": \"count\"})\n",
    "country_nums.index = country_nums.index.set_names([\"name\"])\n",
    "country_nums.reset_index(inplace=True)"
   ]
  },
  {
   "cell_type": "code",
   "execution_count": null,
   "metadata": {},
   "outputs": [],
   "source": [
    "sns.set_palette(\"viridis\")\n",
    "fig, axes = plt.subplots(2, 4, figsize=(23, 10))\n",
    "for r, d, c, b in zip(\n",
    "    [0, 0, 0, 0, 1, 1, 1, 1],\n",
    "    [0, 1, 2, 3, 0, 1, 2, 3],\n",
    "    country_nums.name,\n",
    "    country_nums.Country,\n",
    "):\n",
    "    att = (\n",
    "        data_main[data_main[\"Country\"] == c]\n",
    "        .groupby([\"att_2std\"])[\"ef_bulbs\"]\n",
    "        .agg([np.mean])\n",
    "        .reset_index()\n",
    "    )\n",
    "    sns.regplot(x=\"att_2std\", y=\"mean\", data=att, ax=axes[r, d], lowess=True)\n",
    "    axes[r, d].set_title(\"Country = {} (n = {})\".format(c, b))\n",
    "    axes[r, d].set_ylabel(\"% of energy ef. light bulbs\")\n",
    "    if (r == 1) & (d != 0):\n",
    "        axes[r, d].set_xlabel(\"Attitude Index\")\n",
    "        axes[r, d].set_ylabel(\"\")\n",
    "        axes[r, d].set_yticklabels([])\n",
    "    elif (r == 1) & (d == 0):\n",
    "        axes[r, d].set_xlabel(\"Attitude Index\")\n",
    "    elif (r == 0) & (d != 0):\n",
    "        axes[r, d].set_ylabel(\"\")\n",
    "        axes[r, d].set_yticklabels([])\n",
    "        axes[r, d].set_xlabel(\"\")\n",
    "        axes[r, d].set_xticklabels([])\n",
    "    elif (r == 0) & (d == 0):\n",
    "        axes[r, d].set_xlabel(\"\")\n",
    "        axes[r, d].set_xticklabels([])\n",
    "\n",
    "plt.subplots_adjust(wspace=0.05, hspace=0.15)\n",
    "plt.savefig('results/dep1indep.png')"
   ]
  },
  {
   "cell_type": "code",
   "execution_count": null,
   "metadata": {},
   "outputs": [],
   "source": [
    "sns.set_palette(\"viridis\")\n",
    "fig, axes = plt.subplots(2, 4, figsize=(23, 10))\n",
    "for r, d, c, b in zip(\n",
    "    [0, 0, 0, 0, 1, 1, 1, 1],\n",
    "    [0, 1, 2, 3, 0, 1, 2, 3],\n",
    "    country_nums.name,\n",
    "    country_nums.Country,\n",
    "):\n",
    "    att = (\n",
    "        data_main[data_main[\"Country\"] == c]\n",
    "        .groupby([\"att_2std\"])[\"green_3\"]\n",
    "        .agg([np.mean])\n",
    "        .reset_index()\n",
    "    )\n",
    "    sns.regplot(x=\"att_2std\", y=\"mean\", data=att, ax=axes[r, d], lowess=True)\n",
    "    axes[r, d].set_title(\"Country = {} (n = {})\".format(c, b))\n",
    "    axes[r, d].set_ylabel(\"Buying energy efficient appliances\")\n",
    "    if (r == 1) & (d != 0):\n",
    "        axes[r, d].set_xlabel(\"Attitude Index\")\n",
    "        axes[r, d].set_ylabel(\"\")\n",
    "        axes[r, d].set_yticklabels([])\n",
    "    elif (r == 1) & (d == 0):\n",
    "        axes[r, d].set_xlabel(\"Attitude Index\")\n",
    "    elif (r == 0) & (d != 0):\n",
    "        axes[r, d].set_ylabel(\"\")\n",
    "        axes[r, d].set_yticklabels([])\n",
    "        axes[r, d].set_xlabel(\"\")\n",
    "        axes[r, d].set_xticklabels([])\n",
    "    elif (r == 0) & (d == 0):\n",
    "        axes[r, d].set_xlabel(\"\")\n",
    "        axes[r, d].set_xticklabels([])\n",
    "\n",
    "plt.subplots_adjust(wspace=0.05, hspace=0.15)\n",
    "plt.savefig('results/dep2indep.png')"
   ]
  },
  {
   "cell_type": "code",
   "execution_count": null,
   "metadata": {},
   "outputs": [],
   "source": [
    "sns.set_palette(\"viridis\")\n",
    "fig, axes = plt.subplots(2, 4, figsize=(23, 10))\n",
    "for r, d, c, b in zip(\n",
    "    [0, 0, 0, 0, 1, 1, 1, 1],\n",
    "    [0, 1, 2, 3, 0, 1, 2, 3],\n",
    "    country_nums.name,\n",
    "    country_nums.Country,\n",
    "):\n",
    "    att = (\n",
    "        data_main[data_main[\"Country\"] == c]\n",
    "        .groupby([\"att_2std\"])[\"green_2\"]\n",
    "        .agg([np.mean])\n",
    "        .reset_index()\n",
    "    )\n",
    "    sns.regplot(x=\"att_2std\", y=\"mean\", data=att, ax=axes[r, d], lowess=True)\n",
    "    axes[r, d].set_title(\"Country = {} (n = {})\".format(c, b))\n",
    "    axes[r, d].set_ylabel(\"Choosing alternative travel\")\n",
    "    if (r == 1) & (d != 0):\n",
    "        axes[r, d].set_xlabel(\"Attitude Index\")\n",
    "        axes[r, d].set_ylabel(\"\")\n",
    "        axes[r, d].set_yticklabels([])\n",
    "    elif (r == 1) & (d == 0):\n",
    "        axes[r, d].set_xlabel(\"Attitude Index\")\n",
    "    elif (r == 0) & (d != 0):\n",
    "        axes[r, d].set_ylabel(\"\")\n",
    "        axes[r, d].set_yticklabels([])\n",
    "        axes[r, d].set_xlabel(\"\")\n",
    "        axes[r, d].set_xticklabels([])\n",
    "    elif (r == 0) & (d == 0):\n",
    "        axes[r, d].set_xlabel(\"\")\n",
    "        axes[r, d].set_xticklabels([])\n",
    "\n",
    "plt.subplots_adjust(wspace=0.05, hspace=0.15)\n",
    "plt.savefig('results/dep3indep.png')"
   ]
  },
  {
   "cell_type": "code",
   "execution_count": null,
   "metadata": {},
   "outputs": [],
   "source": [
    "plt.figure(figsize=(16, 10))\n",
    "bins = 12\n",
    "g = sns.FacetGrid(data_main, col=\"Country\", col_wrap=4, height=4)\n",
    "g = g.map(\n",
    "    sns.distplot,\n",
    "    \"att_2std\",\n",
    "    bins=bins,\n",
    "    color=\"c\",\n",
    "    hist=False,\n",
    "    kde_kws={\"shade\": True}\n",
    ")\n",
    "\n",
    "g.map(plt.axvline, x=0, ls='--', c='red')\n",
    "        \n",
    "g.set(ylim=(0, 0.7))\n",
    "\n",
    "g.axes[0].set_title(\"Country = France (n = 938)\")\n",
    "g.axes[1].set_title(\"Country = Germany (n = 513)\")\n",
    "g.axes[2].set_title(\"Country = Hungary (n = 874)\")\n",
    "g.axes[3].set_title(\"Country = Serbia (n = 693)\")\n",
    "g.axes[4].set_title(\"Country = United Kingdom (n = 576)\")\n",
    "g.axes[5].set_title(\"Country = Ukraine (n = 564)\")\n",
    "g.axes[6].set_title(\"Country = Poland (n = 595)\")\n",
    "g.axes[7].set_title(\"Country = Norway (n = 623)\")\n",
    "g.set_xlabels(\"Attitude Index\")\n",
    "plt.savefig('results/attindexdistcountry.png')"
   ]
  },
  {
   "cell_type": "code",
   "execution_count": null,
   "metadata": {},
   "outputs": [],
   "source": [
    "data_poor = data_main[\n",
    "    (data_main[\"income_decile\"] == \"Poor\")\n",
    "    | (data_main[\"income_decile\"] == \"Low income\")\n",
    "]\n",
    "data_rich = data_main[\n",
    "    (data_main[\"income_decile\"] == \"High income\")\n",
    "    | (data_main[\"income_decile\"] == \"Upper middle income\")\n",
    "]\n",
    "\n",
    "km_test_inc = stats.ks_2samp(\n",
    "    data_poor[\"att_2std\"].dropna(), data_rich[\"att_2std\"].dropna()\n",
    ")\n",
    "\n",
    "data_noedu = data_main[(data_main[\"education\"] == 0) | (data_main[\"education\"] == 1) | (data_main[\"education\"] == 2)]\n",
    "data_edu = data_main[(data_main[\"education\"] == 3) | (data_main[\"education\"] == 4)]\n",
    "\n",
    "km_test_edu = stats.ks_2samp(\n",
    "    data_noedu[\"att_2std\"].dropna(), data_edu[\"att_2std\"].dropna()\n",
    ")\n",
    "\n",
    "data_young = data_main[data_main['resp_age'] <= 48]\n",
    "data_old = data_main[data_main['resp_age'] > 48]\n",
    "\n",
    "km_test_age = stats.ks_2samp(\n",
    "    data_young[\"att_2std\"].dropna(), data_old[\"att_2std\"].dropna()\n",
    ")\n",
    "\n",
    "data_male = data_main[data_main['gender'] == 0]\n",
    "data_female = data_main[data_main['gender'] == 1]\n",
    "\n",
    "km_test_gender = stats.ks_2samp(\n",
    "    data_male[\"att_2std\"].dropna(), data_female[\"att_2std\"].dropna()\n",
    ")"
   ]
  },
  {
   "cell_type": "code",
   "execution_count": null,
   "metadata": {
    "scrolled": false
   },
   "outputs": [],
   "source": [
    "fig, axes = plt.subplots(2, 2, figsize=(20, 13))\n",
    "\n",
    "sns.distplot(\n",
    "    data_poor[\"att_2std\"].dropna(),\n",
    "    hist=False,\n",
    "    kde_kws={\"cumulative\": True, \"linewidth\": 3},\n",
    "    ax=axes[0,0],\n",
    "    label = 'Low Income'\n",
    ")\n",
    "sns.distplot(\n",
    "    data_rich[\"att_2std\"].dropna(),\n",
    "    hist=False,\n",
    "    kde_kws={\"cumulative\": True, \"linewidth\": 3},\n",
    "    ax=axes[0,0],\n",
    "    color=\"yellow\",\n",
    "    label= 'High Income'\n",
    ")\n",
    "\n",
    "axes[0,0].set_xlabel(\n",
    "    \"Attitude Index (KS-test: {:.3f}, p value: {:.3f})\\nLow inc. n = {}, High inc. n = {}\".format(\n",
    "        km_test_inc[0], km_test_inc[1], len(data_poor), len(data_rich)\n",
    "    )\n",
    ")\n",
    "axes[0,0].set_ylabel(\"Cumulative distribution\")\n",
    "\n",
    "axes[0,0].set_title(\"Cumulative distribution of Low vs. High income popultaion\")\n",
    "\n",
    "\n",
    "axes[0,0].legend(loc=\"upper left\")\n",
    "\n",
    "#########################\n",
    "\n",
    "sns.distplot(\n",
    "    data_noedu[\"att_2std\"].dropna(),\n",
    "    hist=False,\n",
    "    kde_kws={\"cumulative\": True, \"linewidth\": 3},\n",
    "    ax=axes[0,1],\n",
    "    label = 'No College Degree'\n",
    ")\n",
    "sns.distplot(\n",
    "    data_edu[\"att_2std\"].dropna(),\n",
    "    hist=False,\n",
    "    kde_kws={\"cumulative\": True, \"linewidth\": 3},\n",
    "    ax=axes[0,1],\n",
    "    color=\"c\",\n",
    "    label = 'College Degree'\n",
    ")\n",
    "\n",
    "axes[0,1].set_xlabel(\n",
    "    \"Attitude Index (KS-test: {:.3f}, p value: {:.3f})\\nNo College n = {}, College n = {}\".format(\n",
    "        km_test_edu[0], km_test_edu[1], len(data_noedu), len(data_edu)\n",
    "    )\n",
    ")\n",
    "axes[0,1].set_ylabel(\"Cumulative distribution\")\n",
    "\n",
    "axes[0,1].set_title(\"Cumulative distribution of population with and without College degree\")\n",
    "axes[0,1].legend(loc=\"upper left\")\n",
    "\n",
    "#########################\n",
    "\n",
    "sns.distplot(\n",
    "    data_old[\"att_2std\"].dropna(),\n",
    "    hist=False,\n",
    "    kde_kws={\"cumulative\": True, \"linewidth\": 3},\n",
    "    ax=axes[1,0],\n",
    "    label = 'Older Pop. (48<)'\n",
    ")\n",
    "sns.distplot(\n",
    "    data_young[\"att_2std\"].dropna(),\n",
    "    hist=False,\n",
    "    kde_kws={\"cumulative\": True, \"linewidth\": 3},\n",
    "    ax=axes[1,0],\n",
    "    color=\"g\",\n",
    "    label = 'Younger Pop (48>)'\n",
    ")\n",
    "\n",
    "axes[1,0].set_xlabel(\n",
    "    \"Attitude Index (KS-test: {:.3f}, p value: {:.3f})\\nYounger n = {}, Older n = {}\".format(\n",
    "        km_test_age[0], km_test_age[1], len(data_young), len(data_old)\n",
    "    )\n",
    ")\n",
    "axes[1,0].set_ylabel(\"Cumulative distribution\")\n",
    "\n",
    "axes[1,0].set_title(\"Cumulative distribution of older and younger population\")\n",
    "axes[1,0].legend(loc=\"upper left\")\n",
    "\n",
    "#########################\n",
    "\n",
    "sns.distplot(\n",
    "    data_male[\"att_2std\"].dropna(),\n",
    "    hist=False,\n",
    "    kde_kws={\"cumulative\": True, \"linewidth\": 3},\n",
    "    ax=axes[1,1],\n",
    "    label = 'Male'\n",
    ")\n",
    "sns.distplot(\n",
    "    data_female[\"att_2std\"].dropna(),\n",
    "    hist=False,\n",
    "    kde_kws={\"cumulative\": True, \"linewidth\": 3},\n",
    "    ax=axes[1,1],\n",
    "    color=\"r\",\n",
    "    label = 'Female'\n",
    ")\n",
    "\n",
    "axes[1,1].set_xlabel(\n",
    "    \"Attitude Index (KS-test: {:.3f}, p value: {:.3f})\\nMale n = {}, Female n = {}\".format(\n",
    "        km_test_gender[0], km_test_gender[1], len(data_male), len(data_female)\n",
    "    )\n",
    ")\n",
    "axes[1,1].set_ylabel(\"Cumulative distribution\")\n",
    "\n",
    "axes[1,1].set_title(\"Cumulative distribution of male and female population\")\n",
    "axes[1,1].legend(loc=\"upper left\")\n",
    "\n",
    "plt.savefig('results/attindexcovar.png')"
   ]
  },
  {
   "cell_type": "markdown",
   "metadata": {},
   "source": [
    "### Dependent variable"
   ]
  },
  {
   "cell_type": "markdown",
   "metadata": {},
   "source": [
    "**Cronbach alpha test on dependent variables to be merged**"
   ]
  },
  {
   "cell_type": "code",
   "execution_count": null,
   "metadata": {},
   "outputs": [],
   "source": [
    "g_green3 = data_main.groupby(\"Country\")[\"green_3\"].value_counts(normalize=True)\n",
    "g_green3 = g_green3.mul(100)\n",
    "g_green3 = g_green3.rename(\"percent\").reset_index()\n",
    "\n",
    "g = sns.catplot(\n",
    "    x=\"green_3\", y=\"percent\", col=\"Country\", col_wrap=4, data=g_green3, kind=\"bar\", hue=\"green_3\",dodge=False\n",
    ")\n",
    "\n",
    "#g.add_legend()\n",
    "for a in g.axes:\n",
    "    for gri in range(9):\n",
    "        a.axhline(a.get_yticks()[gri], alpha=0.3, color=\"grey\")\n",
    "    a.legend(loc=\"upper left\")\n",
    "\n",
    "g.axes[0].set_title(\"Country = France (n = 938)\")\n",
    "g.axes[1].set_title(\"Country = Germany (n = 513)\")\n",
    "g.axes[2].set_title(\"Country = Hungary (n = 874)\")\n",
    "g.axes[3].set_title(\"Country = Norway (n = 623)\")\n",
    "g.axes[4].set_title(\"Country = Poland (n = 595)\")\n",
    "g.axes[5].set_title(\"Country = Serbia (n = 693)\")\n",
    "g.axes[6].set_title(\"Country = Ukraine (n = 564)\")\n",
    "g.axes[7].set_title(\"Country = United Kingdom (n = 576)\")\n",
    "\n",
    "g.set_xlabels(\"Buying energy efficient appliances\")\n",
    "plt.savefig('results/dep1country.png')"
   ]
  },
  {
   "cell_type": "code",
   "execution_count": null,
   "metadata": {},
   "outputs": [],
   "source": [
    "g_green2 = data_main.groupby(\"Country\")[\"green_2\"].value_counts(normalize=True)\n",
    "g_green2 = g_green2.mul(100)\n",
    "g_green2 = g_green2.rename(\"percent\").reset_index()\n",
    "\n",
    "g = sns.catplot(\n",
    "    x=\"green_2\", y=\"percent\", col=\"Country\", col_wrap=4, data=g_green2, kind=\"bar\", hue=\"green_2\", dodge = False\n",
    ")\n",
    "\n",
    "b = 0\n",
    "for a in g.axes:\n",
    "\n",
    "    for gri in range(6):\n",
    "        a.axhline(a.get_yticks()[gri], alpha=0.3, color=\"grey\")\n",
    "    a.legend(loc=\"upper left\")\n",
    "    if b == 6:\n",
    "        a.legend(loc=\"upper right\")\n",
    "    b+=1\n",
    "        \n",
    "\n",
    "g.axes[0].set_title(\"Country = France (n = 938)\")\n",
    "g.axes[1].set_title(\"Country = Germany (n = 513)\")\n",
    "g.axes[2].set_title(\"Country = Hungary (n = 874)\")\n",
    "g.axes[3].set_title(\"Country = Norway (n = 623)\")\n",
    "g.axes[4].set_title(\"Country = Poland (n = 595)\")\n",
    "g.axes[5].set_title(\"Country = Serbia (n = 693)\")\n",
    "g.axes[6].set_title(\"Country = Ukraine (n = 564)\")\n",
    "g.axes[7].set_title(\"Country = United Kingdom (n = 576)\")\n",
    "\n",
    "#g = sns.FacetGrid(tips, col=\"time\",  hue=\"smoker\")\n",
    "g.set_xlabels(\"Using alternative transport\")\n",
    "plt.savefig('results/dep2country.png')"
   ]
  },
  {
   "cell_type": "code",
   "execution_count": null,
   "metadata": {},
   "outputs": [],
   "source": [
    "# plt.figure(figsize = (16,10))\n",
    "# g = sns.FacetGrid(data_main, col=\"Country\", col_wrap=4, height=4)\n",
    "# g = g.map(sns.countplot, \"green_1\")\n",
    "# g.set_xlabels(\"Buying efficient car\")"
   ]
  },
  {
   "cell_type": "code",
   "execution_count": null,
   "metadata": {},
   "outputs": [],
   "source": [
    "g_ef = data_main.groupby(\"Country\")[\"ef_bulbs\"].value_counts(normalize=True)\n",
    "g_ef = g_ef.mul(100)\n",
    "g_ef = g_ef.rename(\"percent\").reset_index()\n",
    "\n",
    "g = sns.catplot(\n",
    "    x=\"ef_bulbs\", y=\"percent\", col=\"Country\", col_wrap=4, color = \"#4B2974\", data=g_ef, kind=\"bar\"\n",
    ")\n",
    "\n",
    "for a in g.axes:\n",
    "    for gri in range(6):\n",
    "        a.axhline(a.get_yticks()[gri], alpha=0.3, color=\"grey\")\n",
    "\n",
    "g.axes[0].set_title(\"Country = France (n = 938)\")\n",
    "g.axes[1].set_title(\"Country = Germany (n = 513)\")\n",
    "g.axes[2].set_title(\"Country = Hungary (n = 874)\")\n",
    "g.axes[3].set_title(\"Country = Norway (n = 623)\")\n",
    "g.axes[4].set_title(\"Country = Poland (n = 595)\")\n",
    "g.axes[5].set_title(\"Country = Serbia (n = 693)\")\n",
    "g.axes[6].set_title(\"Country = Ukraine (n = 564)\")\n",
    "g.axes[7].set_title(\"Country = United Kingdom (n = 576)\")\n",
    "\n",
    "g.set_xlabels(\"Share of efficient lightbulbs\")\n",
    "plt.savefig('results/dep3country.png')"
   ]
  },
  {
   "cell_type": "code",
   "execution_count": null,
   "metadata": {},
   "outputs": [],
   "source": [
    "data_main[\"ef_bulbs_bin\"] = np.where(data_main[\"ef_bulbs\"] <= 0.5, 0, 1)\n",
    "data_main[\"education_bin\"] = np.where(data_main[\"education\"] <= 2, 0, 1)\n",
    "data_main.loc[data_main[\"education\"].isna(), \"education_bin\"] = np.nan\n",
    "\n",
    "pd.set_option(\"display.precision\", 3)\n",
    "\n",
    "\n",
    "def t_table01(data, var, indi):\n",
    "    df_all = pd.DataFrame()\n",
    "    t_s = []\n",
    "    p_s = []\n",
    "    diffs = []\n",
    "    for i in indi:\n",
    "        df = data.groupby(var)[i].agg(np.mean).T\n",
    "        diffs.append(df[0] - df[1])\n",
    "        t, p = ttest_ind(\n",
    "            data[data[var] == 0][i], data[data[var] == 1][i], nan_policy=\"omit\"\n",
    "        )\n",
    "        t_s.append(t)\n",
    "        p_s.append(\"{:,.3f}\".format(p))\n",
    "        df_all = df_all.append(df)\n",
    "\n",
    "    df_all[\"difference\"] = diffs\n",
    "    df_all[\"p value\"] = p_s\n",
    "    # df_all.rename(columns = {0: '{}: 0'.format(var), 1:'{}: 1'.format(var)}, inplace =True)\n",
    "\n",
    "    return df_all\n",
    "\n",
    "\n",
    "t_tests = pd.DataFrame()\n",
    "df = {}\n",
    "dependents = [\"green_2\", \"green_3\", \"ef_bulbs_bin\"]\n",
    "dep_names = [\n",
    "    \"Using alternative transport\",\n",
    "    \"Buying efficient appliances\",\n",
    "    \"Share of ef. bulbs (50% cut-off)\",\n",
    "]\n",
    "for dep, i in zip(dependents, dep_names):\n",
    "    df[i] = t_table01(\n",
    "        data_main[data_main['resp_age']>30],\n",
    "        dep,\n",
    "        [\n",
    "            \"education_bin\",\n",
    "            \"income_dec_num10\",\n",
    "            \"gender\",\n",
    "            \"resp_age\",\n",
    "            \"household_members\",\n",
    "            \"children\",\n",
    "            \"elderly\",\n",
    "            \"house_big\",\n",
    "            \"before_1990\",\n",
    "            \"appliance_age_avg\",\n",
    "            \"rural\",\n",
    "            \"detached\",\n",
    "        ],\n",
    "    )\n",
    "\n",
    "t_tests = pd.concat([t_tests, pd.concat(df, axis=1)], axis=1)"
   ]
  },
  {
   "cell_type": "code",
   "execution_count": null,
   "metadata": {
    "scrolled": false
   },
   "outputs": [],
   "source": [
    "t_tests"
   ]
  },
  {
   "cell_type": "code",
   "execution_count": null,
   "metadata": {},
   "outputs": [],
   "source": [
    "t_tests.to_excel('results/depvar_ttest.xlsx')"
   ]
  },
  {
   "cell_type": "code",
   "execution_count": null,
   "metadata": {},
   "outputs": [],
   "source": [
    "data_main['T3'] = data_main['T3'].astype('str')\n",
    "data_main['T2'] = data_main['T2'].astype('str')\n",
    "data_main['M1A'] = data_main['M1A'].astype('str')\n",
    "data_main['M1B'] = data_main['M1B'].astype('str')\n",
    "data_main['M1C'] = data_main['M1C'].astype('str')\n",
    "data_main['M1C'] = data_main['M1D'].astype('str')\n",
    "data_main.to_stata(\"data/main_data.dta\")"
   ]
  }
 ],
 "metadata": {
  "kernelspec": {
   "display_name": "Python 3",
   "language": "python",
   "name": "python3"
  },
  "language_info": {
   "codemirror_mode": {
    "name": "ipython",
    "version": 3
   },
   "file_extension": ".py",
   "mimetype": "text/x-python",
   "name": "python",
   "nbconvert_exporter": "python",
   "pygments_lexer": "ipython3",
   "version": "3.7.7"
  },
  "toc": {
   "base_numbering": 1,
   "nav_menu": {},
   "number_sections": true,
   "sideBar": true,
   "skip_h1_title": false,
   "title_cell": "Table of Contents",
   "title_sidebar": "Contents",
   "toc_cell": false,
   "toc_position": {
    "height": "calc(100% - 180px)",
    "left": "10px",
    "top": "150px",
    "width": "307.188px"
   },
   "toc_section_display": true,
   "toc_window_display": true
  },
  "widgets": {
   "application/vnd.jupyter.widget-state+json": {
    "state": {},
    "version_major": 2,
    "version_minor": 0
   }
  }
 },
 "nbformat": 4,
 "nbformat_minor": 4
}
